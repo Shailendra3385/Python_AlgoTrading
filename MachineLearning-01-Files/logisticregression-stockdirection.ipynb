{
 "cells": [
  {
   "cell_type": "markdown",
   "metadata": {},
   "source": [
    "### The approach\n",
    "\n",
    "1. Decide on ML task: Regression or classification\n",
    "2. Download the data\n",
    "3. Understand it, explore it and visualize it\n",
    "5. Feature selection and Feature extraction\n",
    "6. Feature scaling\n",
    "7. Train model\n",
    "8. Predict\n",
    "9. Evaluate"
   ]
  },
  {
   "cell_type": "code",
   "execution_count": 1,
   "metadata": {},
   "outputs": [],
   "source": [
    "# Importing necessary library\n",
    "import pandas as pd\n",
    "import numpy as np\n",
    "import matplotlib.pyplot as plt\n",
    "from sklearn.linear_model import LogisticRegression\n",
    "from sklearn import metrics"
   ]
  },
  {
   "cell_type": "markdown",
   "metadata": {},
   "source": [
    "### Download the data"
   ]
  },
  {
   "cell_type": "code",
   "execution_count": 2,
   "metadata": {},
   "outputs": [],
   "source": [
    "# Load the data from csv file (daily stock price of intel for the last 5 years)\n",
    "data = pd.read_csv(\"intc.csv\")"
   ]
  },
  {
   "cell_type": "markdown",
   "metadata": {},
   "source": [
    "### Inspect the Data"
   ]
  },
  {
   "cell_type": "code",
   "execution_count": 3,
   "metadata": {},
   "outputs": [
    {
     "data": {
      "text/html": [
       "<div>\n",
       "<style scoped>\n",
       "    .dataframe tbody tr th:only-of-type {\n",
       "        vertical-align: middle;\n",
       "    }\n",
       "\n",
       "    .dataframe tbody tr th {\n",
       "        vertical-align: top;\n",
       "    }\n",
       "\n",
       "    .dataframe thead th {\n",
       "        text-align: right;\n",
       "    }\n",
       "</style>\n",
       "<table border=\"1\" class=\"dataframe\">\n",
       "  <thead>\n",
       "    <tr style=\"text-align: right;\">\n",
       "      <th></th>\n",
       "      <th>Date</th>\n",
       "      <th>Open</th>\n",
       "      <th>High</th>\n",
       "      <th>Low</th>\n",
       "      <th>Close</th>\n",
       "      <th>Volume</th>\n",
       "      <th>Dividends</th>\n",
       "      <th>Stock Splits</th>\n",
       "      <th>News Sentiments</th>\n",
       "    </tr>\n",
       "  </thead>\n",
       "  <tbody>\n",
       "    <tr>\n",
       "      <th>0</th>\n",
       "      <td>24-07-2017</td>\n",
       "      <td>30.541890</td>\n",
       "      <td>30.603448</td>\n",
       "      <td>30.234098</td>\n",
       "      <td>30.339626</td>\n",
       "      <td>16146300</td>\n",
       "      <td>0.0</td>\n",
       "      <td>0</td>\n",
       "      <td>3.217471474</td>\n",
       "    </tr>\n",
       "    <tr>\n",
       "      <th>1</th>\n",
       "      <td>25-07-2017</td>\n",
       "      <td>30.383590</td>\n",
       "      <td>30.550680</td>\n",
       "      <td>30.251681</td>\n",
       "      <td>30.489119</td>\n",
       "      <td>18096700</td>\n",
       "      <td>0.0</td>\n",
       "      <td>0</td>\n",
       "      <td>0.29985157</td>\n",
       "    </tr>\n",
       "    <tr>\n",
       "      <th>2</th>\n",
       "      <td>26-07-2017</td>\n",
       "      <td>30.515501</td>\n",
       "      <td>30.752942</td>\n",
       "      <td>30.418766</td>\n",
       "      <td>30.559471</td>\n",
       "      <td>15499300</td>\n",
       "      <td>0.0</td>\n",
       "      <td>0</td>\n",
       "      <td>1.463964503</td>\n",
       "    </tr>\n",
       "    <tr>\n",
       "      <th>3</th>\n",
       "      <td>27-07-2017</td>\n",
       "      <td>30.585849</td>\n",
       "      <td>30.999173</td>\n",
       "      <td>30.489114</td>\n",
       "      <td>30.752939</td>\n",
       "      <td>43062800</td>\n",
       "      <td>0.0</td>\n",
       "      <td>0</td>\n",
       "      <td>1.610142503</td>\n",
       "    </tr>\n",
       "    <tr>\n",
       "      <th>4</th>\n",
       "      <td>28-07-2017</td>\n",
       "      <td>30.893656</td>\n",
       "      <td>31.535625</td>\n",
       "      <td>30.779332</td>\n",
       "      <td>31.051950</td>\n",
       "      <td>36291500</td>\n",
       "      <td>0.0</td>\n",
       "      <td>0</td>\n",
       "      <td>-1.027758565</td>\n",
       "    </tr>\n",
       "  </tbody>\n",
       "</table>\n",
       "</div>"
      ],
      "text/plain": [
       "         Date       Open       High        Low      Close    Volume  \\\n",
       "0  24-07-2017  30.541890  30.603448  30.234098  30.339626  16146300   \n",
       "1  25-07-2017  30.383590  30.550680  30.251681  30.489119  18096700   \n",
       "2  26-07-2017  30.515501  30.752942  30.418766  30.559471  15499300   \n",
       "3  27-07-2017  30.585849  30.999173  30.489114  30.752939  43062800   \n",
       "4  28-07-2017  30.893656  31.535625  30.779332  31.051950  36291500   \n",
       "\n",
       "   Dividends  Stock Splits News Sentiments  \n",
       "0        0.0             0     3.217471474  \n",
       "1        0.0             0      0.29985157  \n",
       "2        0.0             0     1.463964503  \n",
       "3        0.0             0     1.610142503  \n",
       "4        0.0             0    -1.027758565  "
      ]
     },
     "execution_count": 3,
     "metadata": {},
     "output_type": "execute_result"
    }
   ],
   "source": [
    "# Inspect the data\n",
    "data.head()"
   ]
  },
  {
   "cell_type": "code",
   "execution_count": 4,
   "metadata": {},
   "outputs": [
    {
     "data": {
      "text/plain": [
       "(1258, 9)"
      ]
     },
     "execution_count": 4,
     "metadata": {},
     "output_type": "execute_result"
    }
   ],
   "source": [
    "# Check the shape of the data\n",
    "data.shape"
   ]
  },
  {
   "cell_type": "code",
   "execution_count": 5,
   "metadata": {},
   "outputs": [
    {
     "data": {
      "text/plain": [
       "<seaborn.axisgrid.PairGrid at 0x12b16e220>"
      ]
     },
     "execution_count": 5,
     "metadata": {},
     "output_type": "execute_result"
    },
    {
     "data": {
      "image/png": "[encoded data removed]",
      "text/plain": [
       "<Figure size 540x540 with 12 Axes>"
      ]
     },
     "metadata": {
      "needs_background": "light"
     },
     "output_type": "display_data"
    }
   ],
   "source": [
    "#The data can be visualized in a pairplot as follows\n",
    "\n",
    "import seaborn as sns\n",
    "sns.pairplot(data[['Open','Close','Volume']])"
   ]
  },
  {
   "cell_type": "markdown",
   "metadata": {},
   "source": [
    "### Generating Returns and Target Values"
   ]
  },
  {
   "cell_type": "markdown",
   "metadata": {},
   "source": [
    "Let's say we want to predict the next days movement: up or down. What kind of ML problem would it be? It would be a classification task. And for that purpose, we need to create our target values. Let's create it."
   ]
  },
  {
   "cell_type": "code",
   "execution_count": 6,
   "metadata": {},
   "outputs": [],
   "source": [
    "# Generate log returns\n",
    "data['returns'] = np.log(data['Close'] / data['Close'].shift(1))"
   ]
  },
  {
   "cell_type": "markdown",
   "metadata": {},
   "source": [
    "If the next day is up day, we will designate it with 1, else if it is a down day, we will mark it with -1."
   ]
  },
  {
   "cell_type": "code",
   "execution_count": 7,
   "metadata": {},
   "outputs": [],
   "source": [
    "# Create target values\n",
    "data['target'] = np.where(data.returns.shift(-1) > 0, 1, -1)"
   ]
  },
  {
   "cell_type": "code",
   "execution_count": 8,
   "metadata": {},
   "outputs": [
    {
     "data": {
      "text/plain": [
       " 1    645\n",
       "-1    613\n",
       "Name: target, dtype: int64"
      ]
     },
     "execution_count": 8,
     "metadata": {},
     "output_type": "execute_result"
    }
   ],
   "source": [
    "# Count the values in the target column\n",
    "data['target'].value_counts()"
   ]
  },
  {
   "cell_type": "markdown",
   "metadata": {},
   "source": [
    "### Feature Selection"
   ]
  },
  {
   "cell_type": "markdown",
   "metadata": {},
   "source": [
    "From the available data, we wish to learn a model to predict the next day's movement. But let's first understand which of these features can actually be used. Our intuition says that `Close` price plays a major role in determining the next days movement. So we'll consider it. `Volume` and `News Sentiments` may also have an impact and therefore we will keep those columns as well. The other columns may be ignored.\n",
    "\n",
    "When dealing with large number of columns, where the user is unsure of what features to keep and what not, one often carries out a preliminary feature selection exercise. However, note that domain expertise in feature selection plays a cruicial role."
   ]
  },
  {
   "cell_type": "markdown",
   "metadata": {},
   "source": [
    "### Feature Extraction"
   ]
  },
  {
   "cell_type": "markdown",
   "metadata": {},
   "source": [
    "After ignoring the irrelevant features, we are left with only three variables, viz `Close`, `Volume` and `News Sentiments`. Our intuition says that only these two features might not be able to capture to intricacies of the stock movement. We need additional useful features. We will create or extract new features based on the existing ones.\n",
    "\n",
    "Let's try to create new features. We will consider the following quantitative features.\n",
    "\n",
    "- Rolling standard deviation\n",
    "- Rolling moving average of close price\n",
    "- Rolling percentage change\n",
    "- Rolling moving average of volume\n",
    "- Difference between close and open"
   ]
  },
  {
   "cell_type": "code",
   "execution_count": 9,
   "metadata": {},
   "outputs": [],
   "source": [
    "# Creating features\n",
    "features_list = [\"News Sentiments\"]\n",
    "\n",
    "# SD based features\n",
    "for i in range(5, 20, 5):\n",
    "    col_name = 'std_' + str(i)\n",
    "    data[col_name] = data['Close'].rolling(window=i).std()\n",
    "    features_list.append(col_name)\n",
    "    \n",
    "# MA based features\n",
    "for i in range(10, 30, 5):\n",
    "    col_name = 'ma_' + str(i)\n",
    "    data[col_name] = data['Close'].rolling(window=i).mean()\n",
    "    features_list.append(col_name)\n",
    "    \n",
    "# Daily pct change based features\n",
    "for i in range(3, 12, 3):\n",
    "    col_name = 'pct_' + str(i)\n",
    "    data[col_name] = data['Close'].pct_change().rolling(i).sum()\n",
    "    features_list.append(col_name)\n",
    "    \n",
    "# Feature based on volume\n",
    "col_name = 'vma_4'\n",
    "data[col_name] = data['Volume'].rolling(4).mean()\n",
    "features_list.append(col_name)\n",
    "\n",
    "# Intraday movement\n",
    "col_name = 'co'\n",
    "data[col_name] = data['Close'] - data['Open']\n",
    "features_list.append(col_name)"
   ]
  },
  {
   "cell_type": "markdown",
   "metadata": {},
   "source": [
    "This process of extracting information from the existing features is called feature extraction. We now have a handful of features as shown below. "
   ]
  },
  {
   "cell_type": "code",
   "execution_count": 10,
   "metadata": {},
   "outputs": [
    {
     "data": {
      "text/plain": [
       "['News Sentiments',\n",
       " 'std_5',\n",
       " 'std_10',\n",
       " 'std_15',\n",
       " 'ma_10',\n",
       " 'ma_15',\n",
       " 'ma_20',\n",
       " 'ma_25',\n",
       " 'pct_3',\n",
       " 'pct_6',\n",
       " 'pct_9',\n",
       " 'vma_4',\n",
       " 'co']"
      ]
     },
     "execution_count": 10,
     "metadata": {},
     "output_type": "execute_result"
    }
   ],
   "source": [
    "features_list"
   ]
  },
  {
   "cell_type": "markdown",
   "metadata": {},
   "source": [
    "We'll be using these features to predict the next days movement. We won't be using the `Close` and `Volume` columns anymore. Now is the time to generate our train and test data."
   ]
  },
  {
   "cell_type": "markdown",
   "metadata": {},
   "source": [
    "As we are dealing with time-series data, we need to split our data set in such a way that it doesn't have a lookahead bias. But before we do it, can you think of any potential issue. Again, resorting to our old friend `.info()` will help us see for any potential issues."
   ]
  },
  {
   "cell_type": "code",
   "execution_count": 11,
   "metadata": {},
   "outputs": [
    {
     "name": "stdout",
     "output_type": "stream",
     "text": [
      "<class 'pandas.core.frame.DataFrame'>\n",
      "RangeIndex: 1258 entries, 0 to 1257\n",
      "Data columns (total 23 columns):\n",
      " #   Column           Non-Null Count  Dtype  \n",
      "---  ------           --------------  -----  \n",
      " 0   Date             1258 non-null   object \n",
      " 1   Open             1258 non-null   float64\n",
      " 2   High             1258 non-null   float64\n",
      " 3   Low              1258 non-null   float64\n",
      " 4   Close            1258 non-null   float64\n",
      " 5   Volume           1258 non-null   int64  \n",
      " 6   Dividends        1258 non-null   float64\n",
      " 7   Stock Splits     1258 non-null   int64  \n",
      " 8   News Sentiments  1258 non-null   object \n",
      " 9   returns          1257 non-null   float64\n",
      " 10  target           1258 non-null   int64  \n",
      " 11  std_5            1254 non-null   float64\n",
      " 12  std_10           1249 non-null   float64\n",
      " 13  std_15           1244 non-null   float64\n",
      " 14  ma_10            1249 non-null   float64\n",
      " 15  ma_15            1244 non-null   float64\n",
      " 16  ma_20            1239 non-null   float64\n",
      " 17  ma_25            1234 non-null   float64\n",
      " 18  pct_3            1255 non-null   float64\n",
      " 19  pct_6            1252 non-null   float64\n",
      " 20  pct_9            1249 non-null   float64\n",
      " 21  vma_4            1255 non-null   float64\n",
      " 22  co               1258 non-null   float64\n",
      "dtypes: float64(18), int64(3), object(2)\n",
      "memory usage: 226.2+ KB\n"
     ]
    }
   ],
   "source": [
    "data.info()"
   ]
  },
  {
   "cell_type": "markdown",
   "metadata": {},
   "source": [
    "There are many null values in the features. We need to get rid of them before we move further."
   ]
  },
  {
   "cell_type": "code",
   "execution_count": 12,
   "metadata": {},
   "outputs": [],
   "source": [
    "# Removing nan values\n",
    "data.dropna(inplace=True)"
   ]
  },
  {
   "cell_type": "code",
   "execution_count": 13,
   "metadata": {
    "scrolled": true
   },
   "outputs": [
    {
     "data": {
      "text/html": [
       "<div>\n",
       "<style scoped>\n",
       "    .dataframe tbody tr th:only-of-type {\n",
       "        vertical-align: middle;\n",
       "    }\n",
       "\n",
       "    .dataframe tbody tr th {\n",
       "        vertical-align: top;\n",
       "    }\n",
       "\n",
       "    .dataframe thead th {\n",
       "        text-align: right;\n",
       "    }\n",
       "</style>\n",
       "<table border=\"1\" class=\"dataframe\">\n",
       "  <thead>\n",
       "    <tr style=\"text-align: right;\">\n",
       "      <th></th>\n",
       "      <th>News Sentiments</th>\n",
       "      <th>std_5</th>\n",
       "      <th>std_10</th>\n",
       "      <th>std_15</th>\n",
       "      <th>ma_10</th>\n",
       "      <th>ma_15</th>\n",
       "      <th>ma_20</th>\n",
       "      <th>ma_25</th>\n",
       "      <th>pct_3</th>\n",
       "      <th>pct_6</th>\n",
       "      <th>pct_9</th>\n",
       "      <th>vma_4</th>\n",
       "      <th>co</th>\n",
       "      <th>target</th>\n",
       "    </tr>\n",
       "  </thead>\n",
       "  <tbody>\n",
       "    <tr>\n",
       "      <th>24</th>\n",
       "      <td>1.962872649</td>\n",
       "      <td>0.100126</td>\n",
       "      <td>0.555820</td>\n",
       "      <td>0.663630</td>\n",
       "      <td>31.182269</td>\n",
       "      <td>31.505367</td>\n",
       "      <td>31.622700</td>\n",
       "      <td>31.425884</td>\n",
       "      <td>0.000579</td>\n",
       "      <td>-0.014274</td>\n",
       "      <td>-0.046779</td>\n",
       "      <td>18693650.0</td>\n",
       "      <td>-0.132903</td>\n",
       "      <td>-1</td>\n",
       "    </tr>\n",
       "    <tr>\n",
       "      <th>25</th>\n",
       "      <td>2.564720845</td>\n",
       "      <td>0.022060</td>\n",
       "      <td>0.441909</td>\n",
       "      <td>0.657485</td>\n",
       "      <td>31.032533</td>\n",
       "      <td>31.400227</td>\n",
       "      <td>31.598081</td>\n",
       "      <td>31.440310</td>\n",
       "      <td>-0.000287</td>\n",
       "      <td>-0.010301</td>\n",
       "      <td>-0.038000</td>\n",
       "      <td>17347425.0</td>\n",
       "      <td>-0.115179</td>\n",
       "      <td>1</td>\n",
       "    </tr>\n",
       "    <tr>\n",
       "      <th>26</th>\n",
       "      <td>-2.285617635</td>\n",
       "      <td>0.030436</td>\n",
       "      <td>0.325405</td>\n",
       "      <td>0.630273</td>\n",
       "      <td>30.920009</td>\n",
       "      <td>31.300994</td>\n",
       "      <td>31.538312</td>\n",
       "      <td>31.451592</td>\n",
       "      <td>0.000580</td>\n",
       "      <td>-0.005421</td>\n",
       "      <td>-0.030413</td>\n",
       "      <td>16396325.0</td>\n",
       "      <td>0.194923</td>\n",
       "      <td>1</td>\n",
       "    </tr>\n",
       "    <tr>\n",
       "      <th>27</th>\n",
       "      <td>-1.143725594</td>\n",
       "      <td>0.084056</td>\n",
       "      <td>0.161128</td>\n",
       "      <td>0.554882</td>\n",
       "      <td>30.838496</td>\n",
       "      <td>31.200580</td>\n",
       "      <td>31.472880</td>\n",
       "      <td>31.465730</td>\n",
       "      <td>0.006339</td>\n",
       "      <td>0.006918</td>\n",
       "      <td>-0.007935</td>\n",
       "      <td>17462100.0</td>\n",
       "      <td>0.124041</td>\n",
       "      <td>1</td>\n",
       "    </tr>\n",
       "    <tr>\n",
       "      <th>28</th>\n",
       "      <td>0.956926206</td>\n",
       "      <td>0.156804</td>\n",
       "      <td>0.142818</td>\n",
       "      <td>0.506731</td>\n",
       "      <td>30.829635</td>\n",
       "      <td>31.137378</td>\n",
       "      <td>31.409973</td>\n",
       "      <td>31.478508</td>\n",
       "      <td>0.012075</td>\n",
       "      <td>0.011788</td>\n",
       "      <td>0.001774</td>\n",
       "      <td>17872100.0</td>\n",
       "      <td>0.115182</td>\n",
       "      <td>1</td>\n",
       "    </tr>\n",
       "  </tbody>\n",
       "</table>\n",
       "</div>"
      ],
      "text/plain": [
       "   News Sentiments     std_5    std_10    std_15      ma_10      ma_15  \\\n",
       "24     1.962872649  0.100126  0.555820  0.663630  31.182269  31.505367   \n",
       "25     2.564720845  0.022060  0.441909  0.657485  31.032533  31.400227   \n",
       "26    -2.285617635  0.030436  0.325405  0.630273  30.920009  31.300994   \n",
       "27    -1.143725594  0.084056  0.161128  0.554882  30.838496  31.200580   \n",
       "28     0.956926206  0.156804  0.142818  0.506731  30.829635  31.137378   \n",
       "\n",
       "        ma_20      ma_25     pct_3     pct_6     pct_9       vma_4        co  \\\n",
       "24  31.622700  31.425884  0.000579 -0.014274 -0.046779  18693650.0 -0.132903   \n",
       "25  31.598081  31.440310 -0.000287 -0.010301 -0.038000  17347425.0 -0.115179   \n",
       "26  31.538312  31.451592  0.000580 -0.005421 -0.030413  16396325.0  0.194923   \n",
       "27  31.472880  31.465730  0.006339  0.006918 -0.007935  17462100.0  0.124041   \n",
       "28  31.409973  31.478508  0.012075  0.011788  0.001774  17872100.0  0.115182   \n",
       "\n",
       "    target  \n",
       "24      -1  \n",
       "25       1  \n",
       "26       1  \n",
       "27       1  \n",
       "28       1  "
      ]
     },
     "execution_count": 13,
     "metadata": {},
     "output_type": "execute_result"
    }
   ],
   "source": [
    "data[features_list+['target']].head()"
   ]
  },
  {
   "cell_type": "code",
   "execution_count": 14,
   "metadata": {},
   "outputs": [
    {
     "data": {
      "text/html": [
       "<style  type=\"text/css\" >\n",
       "#T_21879_row0_col0,#T_21879_row1_col1,#T_21879_row2_col2,#T_21879_row3_col3,#T_21879_row4_col4,#T_21879_row5_col5,#T_21879_row5_col6,#T_21879_row6_col5,#T_21879_row6_col6,#T_21879_row7_col7,#T_21879_row8_col8,#T_21879_row9_col9,#T_21879_row10_col10,#T_21879_row11_col11{\n",
       "            background-color:  #b40426;\n",
       "            color:  #f1f1f1;\n",
       "        }#T_21879_row0_col1{\n",
       "            background-color:  #f59d7e;\n",
       "            color:  #000000;\n",
       "        }#T_21879_row0_col2{\n",
       "            background-color:  #f1ccb8;\n",
       "            color:  #000000;\n",
       "        }#T_21879_row0_col3{\n",
       "            background-color:  #9bbcff;\n",
       "            color:  #000000;\n",
       "        }#T_21879_row0_col4{\n",
       "            background-color:  #a3c2fe;\n",
       "            color:  #000000;\n",
       "        }#T_21879_row0_col5,#T_21879_row2_col5{\n",
       "            background-color:  #aac7fd;\n",
       "            color:  #000000;\n",
       "        }#T_21879_row0_col6{\n",
       "            background-color:  #afcafc;\n",
       "            color:  #000000;\n",
       "        }#T_21879_row0_col7,#T_21879_row0_col11,#T_21879_row1_col9,#T_21879_row3_col11,#T_21879_row4_col11,#T_21879_row5_col11,#T_21879_row7_col0,#T_21879_row7_col3,#T_21879_row8_col0,#T_21879_row8_col4,#T_21879_row8_col5,#T_21879_row8_col10,#T_21879_row9_col1,#T_21879_row9_col2,#T_21879_row9_col5,#T_21879_row9_col6,#T_21879_row9_col10,#T_21879_row10_col8{\n",
       "            background-color:  #3b4cc0;\n",
       "            color:  #f1f1f1;\n",
       "        }#T_21879_row0_col8,#T_21879_row9_col4{\n",
       "            background-color:  #3e51c5;\n",
       "            color:  #f1f1f1;\n",
       "        }#T_21879_row0_col9,#T_21879_row5_col8{\n",
       "            background-color:  #4f69d9;\n",
       "            color:  #000000;\n",
       "        }#T_21879_row0_col10{\n",
       "            background-color:  #f6a586;\n",
       "            color:  #000000;\n",
       "        }#T_21879_row1_col0{\n",
       "            background-color:  #f5a081;\n",
       "            color:  #000000;\n",
       "        }#T_21879_row1_col2{\n",
       "            background-color:  #e26952;\n",
       "            color:  #000000;\n",
       "        }#T_21879_row1_col3{\n",
       "            background-color:  #98b9ff;\n",
       "            color:  #000000;\n",
       "        }#T_21879_row1_col4,#T_21879_row3_col2{\n",
       "            background-color:  #a5c3fe;\n",
       "            color:  #000000;\n",
       "        }#T_21879_row1_col5{\n",
       "            background-color:  #adc9fd;\n",
       "            color:  #000000;\n",
       "        }#T_21879_row1_col6,#T_21879_row3_col0{\n",
       "            background-color:  #b2ccfb;\n",
       "            color:  #000000;\n",
       "        }#T_21879_row1_col7,#T_21879_row4_col8,#T_21879_row10_col4{\n",
       "            background-color:  #5470de;\n",
       "            color:  #000000;\n",
       "        }#T_21879_row1_col8{\n",
       "            background-color:  #3f53c6;\n",
       "            color:  #f1f1f1;\n",
       "        }#T_21879_row1_col10,#T_21879_row10_col1{\n",
       "            background-color:  #f7b79b;\n",
       "            color:  #000000;\n",
       "        }#T_21879_row1_col11,#T_21879_row2_col8,#T_21879_row5_col7,#T_21879_row5_col9,#T_21879_row6_col7{\n",
       "            background-color:  #506bda;\n",
       "            color:  #000000;\n",
       "        }#T_21879_row2_col0{\n",
       "            background-color:  #f2cbb7;\n",
       "            color:  #000000;\n",
       "        }#T_21879_row2_col1{\n",
       "            background-color:  #e16751;\n",
       "            color:  #000000;\n",
       "        }#T_21879_row2_col3{\n",
       "            background-color:  #8fb1fe;\n",
       "            color:  #000000;\n",
       "        }#T_21879_row2_col4{\n",
       "            background-color:  #9fbfff;\n",
       "            color:  #000000;\n",
       "        }#T_21879_row2_col6{\n",
       "            background-color:  #b1cbfc;\n",
       "            color:  #000000;\n",
       "        }#T_21879_row2_col7,#T_21879_row10_col5{\n",
       "            background-color:  #5b7ae5;\n",
       "            color:  #000000;\n",
       "        }#T_21879_row2_col9{\n",
       "            background-color:  #4358cb;\n",
       "            color:  #f1f1f1;\n",
       "        }#T_21879_row2_col10{\n",
       "            background-color:  #efcebd;\n",
       "            color:  #000000;\n",
       "        }#T_21879_row2_col11,#T_21879_row11_col3{\n",
       "            background-color:  #4a63d3;\n",
       "            color:  #f1f1f1;\n",
       "        }#T_21879_row3_col1,#T_21879_row4_col0{\n",
       "            background-color:  #b3cdfb;\n",
       "            color:  #000000;\n",
       "        }#T_21879_row3_col4,#T_21879_row4_col3,#T_21879_row4_col5,#T_21879_row5_col4{\n",
       "            background-color:  #b50927;\n",
       "            color:  #f1f1f1;\n",
       "        }#T_21879_row3_col5,#T_21879_row5_col3{\n",
       "            background-color:  #ba162b;\n",
       "            color:  #f1f1f1;\n",
       "        }#T_21879_row3_col6,#T_21879_row6_col3{\n",
       "            background-color:  #be242e;\n",
       "            color:  #f1f1f1;\n",
       "        }#T_21879_row3_col7{\n",
       "            background-color:  #5572df;\n",
       "            color:  #000000;\n",
       "        }#T_21879_row3_col8{\n",
       "            background-color:  #5e7de7;\n",
       "            color:  #000000;\n",
       "        }#T_21879_row3_col9,#T_21879_row11_col10{\n",
       "            background-color:  #6c8ff1;\n",
       "            color:  #000000;\n",
       "        }#T_21879_row3_col10{\n",
       "            background-color:  #688aef;\n",
       "            color:  #000000;\n",
       "        }#T_21879_row4_col1,#T_21879_row6_col0,#T_21879_row6_col2{\n",
       "            background-color:  #b9d0f9;\n",
       "            color:  #000000;\n",
       "        }#T_21879_row4_col2{\n",
       "            background-color:  #aec9fc;\n",
       "            color:  #000000;\n",
       "        }#T_21879_row4_col6,#T_21879_row6_col4{\n",
       "            background-color:  #b8122a;\n",
       "            color:  #f1f1f1;\n",
       "        }#T_21879_row4_col7,#T_21879_row11_col4{\n",
       "            background-color:  #516ddb;\n",
       "            color:  #000000;\n",
       "        }#T_21879_row4_col9,#T_21879_row7_col2{\n",
       "            background-color:  #5977e3;\n",
       "            color:  #000000;\n",
       "        }#T_21879_row4_col10{\n",
       "            background-color:  #6e90f2;\n",
       "            color:  #000000;\n",
       "        }#T_21879_row5_col0{\n",
       "            background-color:  #b6cefa;\n",
       "            color:  #000000;\n",
       "        }#T_21879_row5_col1{\n",
       "            background-color:  #bcd2f7;\n",
       "            color:  #000000;\n",
       "        }#T_21879_row5_col2,#T_21879_row11_col9{\n",
       "            background-color:  #b5cdfa;\n",
       "            color:  #000000;\n",
       "        }#T_21879_row5_col10{\n",
       "            background-color:  #7093f3;\n",
       "            color:  #000000;\n",
       "        }#T_21879_row6_col1{\n",
       "            background-color:  #bfd3f6;\n",
       "            color:  #000000;\n",
       "        }#T_21879_row6_col8{\n",
       "            background-color:  #4e68d8;\n",
       "            color:  #000000;\n",
       "        }#T_21879_row6_col9{\n",
       "            background-color:  #4c66d6;\n",
       "            color:  #000000;\n",
       "        }#T_21879_row6_col10{\n",
       "            background-color:  #7396f5;\n",
       "            color:  #000000;\n",
       "        }#T_21879_row6_col11,#T_21879_row10_col9,#T_21879_row10_col11{\n",
       "            background-color:  #3c4ec2;\n",
       "            color:  #f1f1f1;\n",
       "        }#T_21879_row7_col1,#T_21879_row11_col6{\n",
       "            background-color:  #5a78e4;\n",
       "            color:  #000000;\n",
       "        }#T_21879_row7_col4,#T_21879_row8_col3,#T_21879_row8_col6{\n",
       "            background-color:  #3d50c3;\n",
       "            color:  #f1f1f1;\n",
       "        }#T_21879_row7_col5,#T_21879_row8_col1{\n",
       "            background-color:  #4055c8;\n",
       "            color:  #f1f1f1;\n",
       "        }#T_21879_row7_col6{\n",
       "            background-color:  #445acc;\n",
       "            color:  #f1f1f1;\n",
       "        }#T_21879_row7_col8{\n",
       "            background-color:  #f29274;\n",
       "            color:  #000000;\n",
       "        }#T_21879_row7_col9{\n",
       "            background-color:  #f5c0a7;\n",
       "            color:  #000000;\n",
       "        }#T_21879_row7_col10{\n",
       "            background-color:  #465ecf;\n",
       "            color:  #f1f1f1;\n",
       "        }#T_21879_row7_col11{\n",
       "            background-color:  #d3dbe7;\n",
       "            color:  #000000;\n",
       "        }#T_21879_row8_col2,#T_21879_row10_col3{\n",
       "            background-color:  #485fd1;\n",
       "            color:  #f1f1f1;\n",
       "        }#T_21879_row8_col7{\n",
       "            background-color:  #f39475;\n",
       "            color:  #000000;\n",
       "        }#T_21879_row8_col9,#T_21879_row9_col8{\n",
       "            background-color:  #e46e56;\n",
       "            color:  #000000;\n",
       "        }#T_21879_row8_col11{\n",
       "            background-color:  #a9c6fd;\n",
       "            color:  #000000;\n",
       "        }#T_21879_row9_col0{\n",
       "            background-color:  #4961d2;\n",
       "            color:  #f1f1f1;\n",
       "        }#T_21879_row9_col3{\n",
       "            background-color:  #4b64d5;\n",
       "            color:  #f1f1f1;\n",
       "        }#T_21879_row9_col7{\n",
       "            background-color:  #f5c2aa;\n",
       "            color:  #000000;\n",
       "        }#T_21879_row9_col11{\n",
       "            background-color:  #8caffe;\n",
       "            color:  #000000;\n",
       "        }#T_21879_row10_col0{\n",
       "            background-color:  #f7a688;\n",
       "            color:  #000000;\n",
       "        }#T_21879_row10_col2{\n",
       "            background-color:  #edd1c2;\n",
       "            color:  #000000;\n",
       "        }#T_21879_row10_col6{\n",
       "            background-color:  #6282ea;\n",
       "            color:  #000000;\n",
       "        }#T_21879_row10_col7{\n",
       "            background-color:  #4257c9;\n",
       "            color:  #f1f1f1;\n",
       "        }#T_21879_row11_col0{\n",
       "            background-color:  #6788ee;\n",
       "            color:  #000000;\n",
       "        }#T_21879_row11_col1{\n",
       "            background-color:  #81a4fb;\n",
       "            color:  #000000;\n",
       "        }#T_21879_row11_col2{\n",
       "            background-color:  #7295f4;\n",
       "            color:  #000000;\n",
       "        }#T_21879_row11_col5{\n",
       "            background-color:  #5673e0;\n",
       "            color:  #000000;\n",
       "        }#T_21879_row11_col7{\n",
       "            background-color:  #e6d7cf;\n",
       "            color:  #000000;\n",
       "        }#T_21879_row11_col8{\n",
       "            background-color:  #cad8ef;\n",
       "            color:  #000000;\n",
       "        }</style><table id=\"T_21879_\" ><thead>    <tr>        <th class=\"blank level0\" ></th>        <th class=\"col_heading level0 col0\" >std_5</th>        <th class=\"col_heading level0 col1\" >std_10</th>        <th class=\"col_heading level0 col2\" >std_15</th>        <th class=\"col_heading level0 col3\" >ma_10</th>        <th class=\"col_heading level0 col4\" >ma_15</th>        <th class=\"col_heading level0 col5\" >ma_20</th>        <th class=\"col_heading level0 col6\" >ma_25</th>        <th class=\"col_heading level0 col7\" >pct_3</th>        <th class=\"col_heading level0 col8\" >pct_6</th>        <th class=\"col_heading level0 col9\" >pct_9</th>        <th class=\"col_heading level0 col10\" >vma_4</th>        <th class=\"col_heading level0 col11\" >co</th>    </tr></thead><tbody>\n",
       "                <tr>\n",
       "                        <th id=\"T_21879_level0_row0\" class=\"row_heading level0 row0\" >std_5</th>\n",
       "                        <td id=\"T_21879_row0_col0\" class=\"data row0 col0\" >1.00</td>\n",
       "                        <td id=\"T_21879_row0_col1\" class=\"data row0 col1\" >0.67</td>\n",
       "                        <td id=\"T_21879_row0_col2\" class=\"data row0 col2\" >0.51</td>\n",
       "                        <td id=\"T_21879_row0_col3\" class=\"data row0 col3\" >0.21</td>\n",
       "                        <td id=\"T_21879_row0_col4\" class=\"data row0 col4\" >0.22</td>\n",
       "                        <td id=\"T_21879_row0_col5\" class=\"data row0 col5\" >0.23</td>\n",
       "                        <td id=\"T_21879_row0_col6\" class=\"data row0 col6\" >0.24</td>\n",
       "                        <td id=\"T_21879_row0_col7\" class=\"data row0 col7\" >-0.22</td>\n",
       "                        <td id=\"T_21879_row0_col8\" class=\"data row0 col8\" >-0.22</td>\n",
       "                        <td id=\"T_21879_row0_col9\" class=\"data row0 col9\" >-0.16</td>\n",
       "                        <td id=\"T_21879_row0_col10\" class=\"data row0 col10\" >0.66</td>\n",
       "                        <td id=\"T_21879_row0_col11\" class=\"data row0 col11\" >-0.05</td>\n",
       "            </tr>\n",
       "            <tr>\n",
       "                        <th id=\"T_21879_level0_row1\" class=\"row_heading level0 row1\" >std_10</th>\n",
       "                        <td id=\"T_21879_row1_col0\" class=\"data row1 col0\" >0.67</td>\n",
       "                        <td id=\"T_21879_row1_col1\" class=\"data row1 col1\" >1.00</td>\n",
       "                        <td id=\"T_21879_row1_col2\" class=\"data row1 col2\" >0.83</td>\n",
       "                        <td id=\"T_21879_row1_col3\" class=\"data row1 col3\" >0.20</td>\n",
       "                        <td id=\"T_21879_row1_col4\" class=\"data row1 col4\" >0.22</td>\n",
       "                        <td id=\"T_21879_row1_col5\" class=\"data row1 col5\" >0.24</td>\n",
       "                        <td id=\"T_21879_row1_col6\" class=\"data row1 col6\" >0.25</td>\n",
       "                        <td id=\"T_21879_row1_col7\" class=\"data row1 col7\" >-0.12</td>\n",
       "                        <td id=\"T_21879_row1_col8\" class=\"data row1 col8\" >-0.22</td>\n",
       "                        <td id=\"T_21879_row1_col9\" class=\"data row1 col9\" >-0.25</td>\n",
       "                        <td id=\"T_21879_row1_col10\" class=\"data row1 col10\" >0.59</td>\n",
       "                        <td id=\"T_21879_row1_col11\" class=\"data row1 col11\" >0.02</td>\n",
       "            </tr>\n",
       "            <tr>\n",
       "                        <th id=\"T_21879_level0_row2\" class=\"row_heading level0 row2\" >std_15</th>\n",
       "                        <td id=\"T_21879_row2_col0\" class=\"data row2 col0\" >0.51</td>\n",
       "                        <td id=\"T_21879_row2_col1\" class=\"data row2 col1\" >0.83</td>\n",
       "                        <td id=\"T_21879_row2_col2\" class=\"data row2 col2\" >1.00</td>\n",
       "                        <td id=\"T_21879_row2_col3\" class=\"data row2 col3\" >0.17</td>\n",
       "                        <td id=\"T_21879_row2_col4\" class=\"data row2 col4\" >0.21</td>\n",
       "                        <td id=\"T_21879_row2_col5\" class=\"data row2 col5\" >0.23</td>\n",
       "                        <td id=\"T_21879_row2_col6\" class=\"data row2 col6\" >0.24</td>\n",
       "                        <td id=\"T_21879_row2_col7\" class=\"data row2 col7\" >-0.09</td>\n",
       "                        <td id=\"T_21879_row2_col8\" class=\"data row2 col8\" >-0.15</td>\n",
       "                        <td id=\"T_21879_row2_col9\" class=\"data row2 col9\" >-0.21</td>\n",
       "                        <td id=\"T_21879_row2_col10\" class=\"data row2 col10\" >0.48</td>\n",
       "                        <td id=\"T_21879_row2_col11\" class=\"data row2 col11\" >0.00</td>\n",
       "            </tr>\n",
       "            <tr>\n",
       "                        <th id=\"T_21879_level0_row3\" class=\"row_heading level0 row3\" >ma_10</th>\n",
       "                        <td id=\"T_21879_row3_col0\" class=\"data row3 col0\" >0.21</td>\n",
       "                        <td id=\"T_21879_row3_col1\" class=\"data row3 col1\" >0.20</td>\n",
       "                        <td id=\"T_21879_row3_col2\" class=\"data row3 col2\" >0.17</td>\n",
       "                        <td id=\"T_21879_row3_col3\" class=\"data row3 col3\" >1.00</td>\n",
       "                        <td id=\"T_21879_row3_col4\" class=\"data row3 col4\" >0.99</td>\n",
       "                        <td id=\"T_21879_row3_col5\" class=\"data row3 col5\" >0.98</td>\n",
       "                        <td id=\"T_21879_row3_col6\" class=\"data row3 col6\" >0.97</td>\n",
       "                        <td id=\"T_21879_row3_col7\" class=\"data row3 col7\" >-0.11</td>\n",
       "                        <td id=\"T_21879_row3_col8\" class=\"data row3 col8\" >-0.10</td>\n",
       "                        <td id=\"T_21879_row3_col9\" class=\"data row3 col9\" >-0.05</td>\n",
       "                        <td id=\"T_21879_row3_col10\" class=\"data row3 col10\" >-0.06</td>\n",
       "                        <td id=\"T_21879_row3_col11\" class=\"data row3 col11\" >-0.05</td>\n",
       "            </tr>\n",
       "            <tr>\n",
       "                        <th id=\"T_21879_level0_row4\" class=\"row_heading level0 row4\" >ma_15</th>\n",
       "                        <td id=\"T_21879_row4_col0\" class=\"data row4 col0\" >0.22</td>\n",
       "                        <td id=\"T_21879_row4_col1\" class=\"data row4 col1\" >0.22</td>\n",
       "                        <td id=\"T_21879_row4_col2\" class=\"data row4 col2\" >0.21</td>\n",
       "                        <td id=\"T_21879_row4_col3\" class=\"data row4 col3\" >0.99</td>\n",
       "                        <td id=\"T_21879_row4_col4\" class=\"data row4 col4\" >1.00</td>\n",
       "                        <td id=\"T_21879_row4_col5\" class=\"data row4 col5\" >1.00</td>\n",
       "                        <td id=\"T_21879_row4_col6\" class=\"data row4 col6\" >0.98</td>\n",
       "                        <td id=\"T_21879_row4_col7\" class=\"data row4 col7\" >-0.13</td>\n",
       "                        <td id=\"T_21879_row4_col8\" class=\"data row4 col8\" >-0.14</td>\n",
       "                        <td id=\"T_21879_row4_col9\" class=\"data row4 col9\" >-0.12</td>\n",
       "                        <td id=\"T_21879_row4_col10\" class=\"data row4 col10\" >-0.04</td>\n",
       "                        <td id=\"T_21879_row4_col11\" class=\"data row4 col11\" >-0.05</td>\n",
       "            </tr>\n",
       "            <tr>\n",
       "                        <th id=\"T_21879_level0_row5\" class=\"row_heading level0 row5\" >ma_20</th>\n",
       "                        <td id=\"T_21879_row5_col0\" class=\"data row5 col0\" >0.23</td>\n",
       "                        <td id=\"T_21879_row5_col1\" class=\"data row5 col1\" >0.24</td>\n",
       "                        <td id=\"T_21879_row5_col2\" class=\"data row5 col2\" >0.23</td>\n",
       "                        <td id=\"T_21879_row5_col3\" class=\"data row5 col3\" >0.98</td>\n",
       "                        <td id=\"T_21879_row5_col4\" class=\"data row5 col4\" >1.00</td>\n",
       "                        <td id=\"T_21879_row5_col5\" class=\"data row5 col5\" >1.00</td>\n",
       "                        <td id=\"T_21879_row5_col6\" class=\"data row5 col6\" >1.00</td>\n",
       "                        <td id=\"T_21879_row5_col7\" class=\"data row5 col7\" >-0.13</td>\n",
       "                        <td id=\"T_21879_row5_col8\" class=\"data row5 col8\" >-0.15</td>\n",
       "                        <td id=\"T_21879_row5_col9\" class=\"data row5 col9\" >-0.16</td>\n",
       "                        <td id=\"T_21879_row5_col10\" class=\"data row5 col10\" >-0.03</td>\n",
       "                        <td id=\"T_21879_row5_col11\" class=\"data row5 col11\" >-0.05</td>\n",
       "            </tr>\n",
       "            <tr>\n",
       "                        <th id=\"T_21879_level0_row6\" class=\"row_heading level0 row6\" >ma_25</th>\n",
       "                        <td id=\"T_21879_row6_col0\" class=\"data row6 col0\" >0.24</td>\n",
       "                        <td id=\"T_21879_row6_col1\" class=\"data row6 col1\" >0.25</td>\n",
       "                        <td id=\"T_21879_row6_col2\" class=\"data row6 col2\" >0.24</td>\n",
       "                        <td id=\"T_21879_row6_col3\" class=\"data row6 col3\" >0.97</td>\n",
       "                        <td id=\"T_21879_row6_col4\" class=\"data row6 col4\" >0.98</td>\n",
       "                        <td id=\"T_21879_row6_col5\" class=\"data row6 col5\" >1.00</td>\n",
       "                        <td id=\"T_21879_row6_col6\" class=\"data row6 col6\" >1.00</td>\n",
       "                        <td id=\"T_21879_row6_col7\" class=\"data row6 col7\" >-0.13</td>\n",
       "                        <td id=\"T_21879_row6_col8\" class=\"data row6 col8\" >-0.16</td>\n",
       "                        <td id=\"T_21879_row6_col9\" class=\"data row6 col9\" >-0.17</td>\n",
       "                        <td id=\"T_21879_row6_col10\" class=\"data row6 col10\" >-0.02</td>\n",
       "                        <td id=\"T_21879_row6_col11\" class=\"data row6 col11\" >-0.05</td>\n",
       "            </tr>\n",
       "            <tr>\n",
       "                        <th id=\"T_21879_level0_row7\" class=\"row_heading level0 row7\" >pct_3</th>\n",
       "                        <td id=\"T_21879_row7_col0\" class=\"data row7 col0\" >-0.22</td>\n",
       "                        <td id=\"T_21879_row7_col1\" class=\"data row7 col1\" >-0.12</td>\n",
       "                        <td id=\"T_21879_row7_col2\" class=\"data row7 col2\" >-0.09</td>\n",
       "                        <td id=\"T_21879_row7_col3\" class=\"data row7 col3\" >-0.11</td>\n",
       "                        <td id=\"T_21879_row7_col4\" class=\"data row7 col4\" >-0.13</td>\n",
       "                        <td id=\"T_21879_row7_col5\" class=\"data row7 col5\" >-0.13</td>\n",
       "                        <td id=\"T_21879_row7_col6\" class=\"data row7 col6\" >-0.13</td>\n",
       "                        <td id=\"T_21879_row7_col7\" class=\"data row7 col7\" >1.00</td>\n",
       "                        <td id=\"T_21879_row7_col8\" class=\"data row7 col8\" >0.71</td>\n",
       "                        <td id=\"T_21879_row7_col9\" class=\"data row7 col9\" >0.55</td>\n",
       "                        <td id=\"T_21879_row7_col10\" class=\"data row7 col10\" >-0.19</td>\n",
       "                        <td id=\"T_21879_row7_col11\" class=\"data row7 col11\" >0.44</td>\n",
       "            </tr>\n",
       "            <tr>\n",
       "                        <th id=\"T_21879_level0_row8\" class=\"row_heading level0 row8\" >pct_6</th>\n",
       "                        <td id=\"T_21879_row8_col0\" class=\"data row8 col0\" >-0.22</td>\n",
       "                        <td id=\"T_21879_row8_col1\" class=\"data row8 col1\" >-0.22</td>\n",
       "                        <td id=\"T_21879_row8_col2\" class=\"data row8 col2\" >-0.15</td>\n",
       "                        <td id=\"T_21879_row8_col3\" class=\"data row8 col3\" >-0.10</td>\n",
       "                        <td id=\"T_21879_row8_col4\" class=\"data row8 col4\" >-0.14</td>\n",
       "                        <td id=\"T_21879_row8_col5\" class=\"data row8 col5\" >-0.15</td>\n",
       "                        <td id=\"T_21879_row8_col6\" class=\"data row8 col6\" >-0.16</td>\n",
       "                        <td id=\"T_21879_row8_col7\" class=\"data row8 col7\" >0.71</td>\n",
       "                        <td id=\"T_21879_row8_col8\" class=\"data row8 col8\" >1.00</td>\n",
       "                        <td id=\"T_21879_row8_col9\" class=\"data row8 col9\" >0.81</td>\n",
       "                        <td id=\"T_21879_row8_col10\" class=\"data row8 col10\" >-0.24</td>\n",
       "                        <td id=\"T_21879_row8_col11\" class=\"data row8 col11\" >0.30</td>\n",
       "            </tr>\n",
       "            <tr>\n",
       "                        <th id=\"T_21879_level0_row9\" class=\"row_heading level0 row9\" >pct_9</th>\n",
       "                        <td id=\"T_21879_row9_col0\" class=\"data row9 col0\" >-0.16</td>\n",
       "                        <td id=\"T_21879_row9_col1\" class=\"data row9 col1\" >-0.25</td>\n",
       "                        <td id=\"T_21879_row9_col2\" class=\"data row9 col2\" >-0.21</td>\n",
       "                        <td id=\"T_21879_row9_col3\" class=\"data row9 col3\" >-0.05</td>\n",
       "                        <td id=\"T_21879_row9_col4\" class=\"data row9 col4\" >-0.12</td>\n",
       "                        <td id=\"T_21879_row9_col5\" class=\"data row9 col5\" >-0.16</td>\n",
       "                        <td id=\"T_21879_row9_col6\" class=\"data row9 col6\" >-0.17</td>\n",
       "                        <td id=\"T_21879_row9_col7\" class=\"data row9 col7\" >0.55</td>\n",
       "                        <td id=\"T_21879_row9_col8\" class=\"data row9 col8\" >0.81</td>\n",
       "                        <td id=\"T_21879_row9_col9\" class=\"data row9 col9\" >1.00</td>\n",
       "                        <td id=\"T_21879_row9_col10\" class=\"data row9 col10\" >-0.24</td>\n",
       "                        <td id=\"T_21879_row9_col11\" class=\"data row9 col11\" >0.21</td>\n",
       "            </tr>\n",
       "            <tr>\n",
       "                        <th id=\"T_21879_level0_row10\" class=\"row_heading level0 row10\" >vma_4</th>\n",
       "                        <td id=\"T_21879_row10_col0\" class=\"data row10 col0\" >0.66</td>\n",
       "                        <td id=\"T_21879_row10_col1\" class=\"data row10 col1\" >0.59</td>\n",
       "                        <td id=\"T_21879_row10_col2\" class=\"data row10 col2\" >0.48</td>\n",
       "                        <td id=\"T_21879_row10_col3\" class=\"data row10 col3\" >-0.06</td>\n",
       "                        <td id=\"T_21879_row10_col4\" class=\"data row10 col4\" >-0.04</td>\n",
       "                        <td id=\"T_21879_row10_col5\" class=\"data row10 col5\" >-0.03</td>\n",
       "                        <td id=\"T_21879_row10_col6\" class=\"data row10 col6\" >-0.02</td>\n",
       "                        <td id=\"T_21879_row10_col7\" class=\"data row10 col7\" >-0.19</td>\n",
       "                        <td id=\"T_21879_row10_col8\" class=\"data row10 col8\" >-0.24</td>\n",
       "                        <td id=\"T_21879_row10_col9\" class=\"data row10 col9\" >-0.24</td>\n",
       "                        <td id=\"T_21879_row10_col10\" class=\"data row10 col10\" >1.00</td>\n",
       "                        <td id=\"T_21879_row10_col11\" class=\"data row10 col11\" >-0.05</td>\n",
       "            </tr>\n",
       "            <tr>\n",
       "                        <th id=\"T_21879_level0_row11\" class=\"row_heading level0 row11\" >co</th>\n",
       "                        <td id=\"T_21879_row11_col0\" class=\"data row11 col0\" >-0.05</td>\n",
       "                        <td id=\"T_21879_row11_col1\" class=\"data row11 col1\" >0.02</td>\n",
       "                        <td id=\"T_21879_row11_col2\" class=\"data row11 col2\" >0.00</td>\n",
       "                        <td id=\"T_21879_row11_col3\" class=\"data row11 col3\" >-0.05</td>\n",
       "                        <td id=\"T_21879_row11_col4\" class=\"data row11 col4\" >-0.05</td>\n",
       "                        <td id=\"T_21879_row11_col5\" class=\"data row11 col5\" >-0.05</td>\n",
       "                        <td id=\"T_21879_row11_col6\" class=\"data row11 col6\" >-0.05</td>\n",
       "                        <td id=\"T_21879_row11_col7\" class=\"data row11 col7\" >0.44</td>\n",
       "                        <td id=\"T_21879_row11_col8\" class=\"data row11 col8\" >0.30</td>\n",
       "                        <td id=\"T_21879_row11_col9\" class=\"data row11 col9\" >0.21</td>\n",
       "                        <td id=\"T_21879_row11_col10\" class=\"data row11 col10\" >-0.05</td>\n",
       "                        <td id=\"T_21879_row11_col11\" class=\"data row11 col11\" >1.00</td>\n",
       "            </tr>\n",
       "    </tbody></table>"
      ],
      "text/plain": [
       "<pandas.io.formats.style.Styler at 0x11d9621c0>"
      ]
     },
     "execution_count": 14,
     "metadata": {},
     "output_type": "execute_result"
    }
   ],
   "source": [
    "#Correlation coefficients\n",
    "corr = data[features_list].corr()\n",
    "corr.style.background_gradient(cmap='coolwarm').set_precision(2)"
   ]
  },
  {
   "cell_type": "markdown",
   "metadata": {},
   "source": [
    "### Generating Training and Testing Datasets"
   ]
  },
  {
   "cell_type": "code",
   "execution_count": 15,
   "metadata": {},
   "outputs": [],
   "source": [
    "from sklearn.model_selection import train_test_split"
   ]
  },
  {
   "cell_type": "code",
   "execution_count": 16,
   "metadata": {},
   "outputs": [
    {
     "data": {
      "text/plain": [
       "((986, 13), (986,), (247, 13), (247,))"
      ]
     },
     "execution_count": 16,
     "metadata": {},
     "output_type": "execute_result"
    }
   ],
   "source": [
    "X_train , X_test,Y_train,Y_test = train_test_split(data[features_list].iloc[:-1],\n",
    "                                                   data.iloc[:-1]['target'],\n",
    "                                                   test_size= 0.2)\n",
    "X_train.shape, Y_train.shape, X_test.shape, Y_test.shape"
   ]
  },
  {
   "cell_type": "code",
   "execution_count": 17,
   "metadata": {},
   "outputs": [
    {
     "data": {
      "text/html": [
       "<div>\n",
       "<style scoped>\n",
       "    .dataframe tbody tr th:only-of-type {\n",
       "        vertical-align: middle;\n",
       "    }\n",
       "\n",
       "    .dataframe tbody tr th {\n",
       "        vertical-align: top;\n",
       "    }\n",
       "\n",
       "    .dataframe thead th {\n",
       "        text-align: right;\n",
       "    }\n",
       "</style>\n",
       "<table border=\"1\" class=\"dataframe\">\n",
       "  <thead>\n",
       "    <tr style=\"text-align: right;\">\n",
       "      <th></th>\n",
       "      <th>std_5</th>\n",
       "      <th>std_10</th>\n",
       "      <th>std_15</th>\n",
       "      <th>ma_10</th>\n",
       "      <th>ma_15</th>\n",
       "      <th>ma_20</th>\n",
       "      <th>ma_25</th>\n",
       "      <th>pct_3</th>\n",
       "      <th>pct_6</th>\n",
       "      <th>pct_9</th>\n",
       "      <th>vma_4</th>\n",
       "      <th>co</th>\n",
       "    </tr>\n",
       "  </thead>\n",
       "  <tbody>\n",
       "    <tr>\n",
       "      <th>count</th>\n",
       "      <td>1234.000000</td>\n",
       "      <td>1234.000000</td>\n",
       "      <td>1234.000000</td>\n",
       "      <td>1234.000000</td>\n",
       "      <td>1234.000000</td>\n",
       "      <td>1234.000000</td>\n",
       "      <td>1234.000000</td>\n",
       "      <td>1234.000000</td>\n",
       "      <td>1234.000000</td>\n",
       "      <td>1234.000000</td>\n",
       "      <td>1.234000e+03</td>\n",
       "      <td>1234.000000</td>\n",
       "    </tr>\n",
       "    <tr>\n",
       "      <th>mean</th>\n",
       "      <td>0.826305</td>\n",
       "      <td>1.147023</td>\n",
       "      <td>1.394016</td>\n",
       "      <td>48.143361</td>\n",
       "      <td>48.131024</td>\n",
       "      <td>48.119657</td>\n",
       "      <td>48.107472</td>\n",
       "      <td>0.001476</td>\n",
       "      <td>0.002795</td>\n",
       "      <td>0.003970</td>\n",
       "      <td>2.880777e+07</td>\n",
       "      <td>0.009035</td>\n",
       "    </tr>\n",
       "    <tr>\n",
       "      <th>std</th>\n",
       "      <td>0.644280</td>\n",
       "      <td>0.786092</td>\n",
       "      <td>0.892981</td>\n",
       "      <td>6.490973</td>\n",
       "      <td>6.453161</td>\n",
       "      <td>6.415417</td>\n",
       "      <td>6.381783</td>\n",
       "      <td>0.035761</td>\n",
       "      <td>0.050691</td>\n",
       "      <td>0.060510</td>\n",
       "      <td>1.087040e+07</td>\n",
       "      <td>0.812314</td>\n",
       "    </tr>\n",
       "    <tr>\n",
       "      <th>min</th>\n",
       "      <td>0.022060</td>\n",
       "      <td>0.142818</td>\n",
       "      <td>0.294095</td>\n",
       "      <td>30.829635</td>\n",
       "      <td>30.983211</td>\n",
       "      <td>31.161004</td>\n",
       "      <td>31.349193</td>\n",
       "      <td>-0.193226</td>\n",
       "      <td>-0.238315</td>\n",
       "      <td>-0.232320</td>\n",
       "      <td>1.115745e+07</td>\n",
       "      <td>-4.383805</td>\n",
       "    </tr>\n",
       "    <tr>\n",
       "      <th>25%</th>\n",
       "      <td>0.438376</td>\n",
       "      <td>0.615768</td>\n",
       "      <td>0.773336</td>\n",
       "      <td>43.618280</td>\n",
       "      <td>43.656746</td>\n",
       "      <td>43.678696</td>\n",
       "      <td>43.744832</td>\n",
       "      <td>-0.015335</td>\n",
       "      <td>-0.021858</td>\n",
       "      <td>-0.026795</td>\n",
       "      <td>2.092840e+07</td>\n",
       "      <td>-0.417740</td>\n",
       "    </tr>\n",
       "    <tr>\n",
       "      <th>50%</th>\n",
       "      <td>0.643024</td>\n",
       "      <td>0.942104</td>\n",
       "      <td>1.131428</td>\n",
       "      <td>47.638610</td>\n",
       "      <td>47.603447</td>\n",
       "      <td>47.663084</td>\n",
       "      <td>47.731497</td>\n",
       "      <td>0.002842</td>\n",
       "      <td>0.006599</td>\n",
       "      <td>0.007575</td>\n",
       "      <td>2.667218e+07</td>\n",
       "      <td>0.026581</td>\n",
       "    </tr>\n",
       "    <tr>\n",
       "      <th>75%</th>\n",
       "      <td>1.004421</td>\n",
       "      <td>1.382559</td>\n",
       "      <td>1.689403</td>\n",
       "      <td>52.847999</td>\n",
       "      <td>52.754696</td>\n",
       "      <td>52.668811</td>\n",
       "      <td>52.607691</td>\n",
       "      <td>0.020739</td>\n",
       "      <td>0.030156</td>\n",
       "      <td>0.039133</td>\n",
       "      <td>3.383403e+07</td>\n",
       "      <td>0.432089</td>\n",
       "    </tr>\n",
       "    <tr>\n",
       "      <th>max</th>\n",
       "      <td>5.686916</td>\n",
       "      <td>5.901506</td>\n",
       "      <td>5.626518</td>\n",
       "      <td>63.560337</td>\n",
       "      <td>63.081724</td>\n",
       "      <td>62.628537</td>\n",
       "      <td>62.515755</td>\n",
       "      <td>0.143055</td>\n",
       "      <td>0.202942</td>\n",
       "      <td>0.185838</td>\n",
       "      <td>1.031650e+08</td>\n",
       "      <td>5.806564</td>\n",
       "    </tr>\n",
       "  </tbody>\n",
       "</table>\n",
       "</div>"
      ],
      "text/plain": [
       "             std_5       std_10       std_15        ma_10        ma_15  \\\n",
       "count  1234.000000  1234.000000  1234.000000  1234.000000  1234.000000   \n",
       "mean      0.826305     1.147023     1.394016    48.143361    48.131024   \n",
       "std       0.644280     0.786092     0.892981     6.490973     6.453161   \n",
       "min       0.022060     0.142818     0.294095    30.829635    30.983211   \n",
       "25%       0.438376     0.615768     0.773336    43.618280    43.656746   \n",
       "50%       0.643024     0.942104     1.131428    47.638610    47.603447   \n",
       "75%       1.004421     1.382559     1.689403    52.847999    52.754696   \n",
       "max       5.686916     5.901506     5.626518    63.560337    63.081724   \n",
       "\n",
       "             ma_20        ma_25        pct_3        pct_6        pct_9  \\\n",
       "count  1234.000000  1234.000000  1234.000000  1234.000000  1234.000000   \n",
       "mean     48.119657    48.107472     0.001476     0.002795     0.003970   \n",
       "std       6.415417     6.381783     0.035761     0.050691     0.060510   \n",
       "min      31.161004    31.349193    -0.193226    -0.238315    -0.232320   \n",
       "25%      43.678696    43.744832    -0.015335    -0.021858    -0.026795   \n",
       "50%      47.663084    47.731497     0.002842     0.006599     0.007575   \n",
       "75%      52.668811    52.607691     0.020739     0.030156     0.039133   \n",
       "max      62.628537    62.515755     0.143055     0.202942     0.185838   \n",
       "\n",
       "              vma_4           co  \n",
       "count  1.234000e+03  1234.000000  \n",
       "mean   2.880777e+07     0.009035  \n",
       "std    1.087040e+07     0.812314  \n",
       "min    1.115745e+07    -4.383805  \n",
       "25%    2.092840e+07    -0.417740  \n",
       "50%    2.667218e+07     0.026581  \n",
       "75%    3.383403e+07     0.432089  \n",
       "max    1.031650e+08     5.806564  "
      ]
     },
     "execution_count": 17,
     "metadata": {},
     "output_type": "execute_result"
    }
   ],
   "source": [
    "#The descriptive statistics of the features reveal that the order of magnitudes of the features are very different\n",
    "data[features_list].describe()"
   ]
  },
  {
   "cell_type": "code",
   "execution_count": 18,
   "metadata": {},
   "outputs": [],
   "source": [
    "#Scale the features as the order of magnitudes of the features are very different\n",
    "from sklearn.preprocessing import StandardScaler\n",
    "\n",
    "#Standardize features by removing the mean and scaling to unit variance.\n",
    "scaler = StandardScaler()\n",
    "\n",
    "X_train_scaled = scaler.fit_transform(X_train)\n",
    "X_test_scaled = scaler.transform(X_test)"
   ]
  },
  {
   "cell_type": "markdown",
   "metadata": {},
   "source": [
    "### Train logistic regression model"
   ]
  },
  {
   "cell_type": "code",
   "execution_count": 19,
   "metadata": {},
   "outputs": [
    {
     "data": {
      "text/plain": [
       "LogisticRegression()"
      ]
     },
     "execution_count": 19,
     "metadata": {},
     "output_type": "execute_result"
    }
   ],
   "source": [
    "# Create model\n",
    "model = LogisticRegression()\n",
    "\n",
    "# Train model\n",
    "model.fit(X_train_scaled, Y_train)"
   ]
  },
  {
   "cell_type": "markdown",
   "metadata": {},
   "source": [
    "### Prediction and Model evaluation\n",
    "Finally, we have arrived at the most interesting point, where we can predict. Let's do it."
   ]
  },
  {
   "cell_type": "code",
   "execution_count": 20,
   "metadata": {},
   "outputs": [],
   "source": [
    "# Predict on train dataset\n",
    "Y_pred_train = model.predict(X_train_scaled)"
   ]
  },
  {
   "cell_type": "code",
   "execution_count": 21,
   "metadata": {},
   "outputs": [
    {
     "name": "stdout",
     "output_type": "stream",
     "text": [
      "Model accuracy on training data: 0.7079107505070994\n"
     ]
    }
   ],
   "source": [
    "print('Model accuracy on training data:', model.score(X_train_scaled, Y_train))"
   ]
  },
  {
   "cell_type": "code",
   "execution_count": 22,
   "metadata": {},
   "outputs": [],
   "source": [
    "# Predict on test dataset\n",
    "Y_pred = model.predict(X_test_scaled)"
   ]
  },
  {
   "cell_type": "code",
   "execution_count": 23,
   "metadata": {},
   "outputs": [
    {
     "name": "stdout",
     "output_type": "stream",
     "text": [
      "Model accuracy on testing data: 0.7368421052631579\n"
     ]
    }
   ],
   "source": [
    "print('Model accuracy on testing data:', model.score(X_test_scaled, Y_test))"
   ]
  },
  {
   "cell_type": "code",
   "execution_count": 24,
   "metadata": {},
   "outputs": [
    {
     "name": "stdout",
     "output_type": "stream",
     "text": [
      "Model accuracy on training data: 0.7079107505070994\n",
      "Model accuracy on testing data: 0.7368421052631579\n"
     ]
    }
   ],
   "source": [
    "# Another method to calculate accuracy\n",
    "from sklearn.metrics import accuracy_score\n",
    "print('Model accuracy on training data:', accuracy_score(Y_train, Y_pred_train))\n",
    "print('Model accuracy on testing data:', accuracy_score(Y_test, Y_pred))"
   ]
  },
  {
   "cell_type": "code",
   "execution_count": 25,
   "metadata": {},
   "outputs": [
    {
     "name": "stdout",
     "output_type": "stream",
     "text": [
      "[[91 40]\n",
      " [25 91]]\n"
     ]
    }
   ],
   "source": [
    "# Printing confusion matrix\n",
    "m = metrics.confusion_matrix(Y_test, Y_pred)\n",
    "print(m)"
   ]
  },
  {
   "cell_type": "code",
   "execution_count": 26,
   "metadata": {},
   "outputs": [
    {
     "data": {
      "image/png": "[encoded data removed]",
      "text/plain": [
       "<Figure size 432x288 with 2 Axes>"
      ]
     },
     "metadata": {
      "needs_background": "light"
     },
     "output_type": "display_data"
    }
   ],
   "source": [
    "# Better visualization of a confusion matrix\n",
    "disp = metrics.ConfusionMatrixDisplay(confusion_matrix=m,display_labels=model.classes_)\n",
    "disp.plot()\n",
    "plt.show()"
   ]
  },
  {
   "cell_type": "code",
   "execution_count": 27,
   "metadata": {},
   "outputs": [
    {
     "name": "stdout",
     "output_type": "stream",
     "text": [
      "              precision    recall  f1-score   support\n",
      "\n",
      "          -1       0.78      0.69      0.74       131\n",
      "           1       0.69      0.78      0.74       116\n",
      "\n",
      "    accuracy                           0.74       247\n",
      "   macro avg       0.74      0.74      0.74       247\n",
      "weighted avg       0.74      0.74      0.74       247\n",
      "\n"
     ]
    }
   ],
   "source": [
    "# Printing classification report\n",
    "from sklearn.metrics import classification_report\n",
    "print(classification_report(Y_test, Y_pred))"
   ]
  }
 ],
 "metadata": {
  "kernelspec": {
   "display_name": "Python 3",
   "language": "python",
   "name": "python3"
  },
  "language_info": {
   "codemirror_mode": {
    "name": "ipython",
    "version": 3
   },
   "file_extension": ".py",
   "mimetype": "text/x-python",
   "name": "python",
   "nbconvert_exporter": "python",
   "pygments_lexer": "ipython3",
   "version": "3.8.10"
  }
 },
 "nbformat": 4,
 "nbformat_minor": 2
}
