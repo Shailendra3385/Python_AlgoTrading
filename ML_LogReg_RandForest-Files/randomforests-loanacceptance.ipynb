{
 "cells": [
  {
   "cell_type": "markdown",
   "metadata": {},
   "source": [
    "## The file \"loanacceptance.csv\" contains various attributes of 500 customers based on which loan has either been granted or denied. You have to create a system that automatically decides whether to grant a loan or not to grant a loan."
   ]
  },
  {
   "cell_type": "markdown",
   "metadata": {},
   "source": [
    "### Importing libraries"
   ]
  },
  {
   "cell_type": "code",
   "execution_count": 2,
   "metadata": {},
   "outputs": [],
   "source": [
    "from sklearn import ensemble\n",
    "from sklearn import metrics\n",
    "from sklearn.model_selection import train_test_split\n",
    "import numpy as np\n",
    "import pandas as pd\n",
    "import matplotlib.pyplot as plt"
   ]
  },
  {
   "cell_type": "markdown",
   "metadata": {},
   "source": [
    "### Reading data file through pandas"
   ]
  },
  {
   "cell_type": "code",
   "execution_count": 3,
   "metadata": {},
   "outputs": [],
   "source": [
    "def readFileThroughPandas(filename):\n",
    "    # Reads the entire data file\n",
    "    data = pd.read_csv(filename)\n",
    "    \n",
    "    att = data[[\"Marital Status\",\"Kids\",\"Annual Household Salary\",\"Loan Amount\",\"Car owner\", \"Education Level\"]]\n",
    "    lab = data[\"Loan Granted\"]\n",
    "    \n",
    "    # Sometimes the dataset needs normalization when the variables are of very different orders of magnitude\n",
    "    # Normalization is not necessary for decision trees or random forests\n",
    "    # Standard deviation based normalization\n",
    "    # att=(att-att.mean())/att.std()\n",
    "    # Zero-to-One normalization\n",
    "    # att=(att-att.min())/(att.max()-att.min())\n",
    "    \n",
    "    return(att,lab)"
   ]
  },
  {
   "cell_type": "code",
   "execution_count": 4,
   "metadata": {},
   "outputs": [
    {
     "name": "stdout",
     "output_type": "stream",
     "text": [
      "(500, 6)\n",
      "(500,)\n"
     ]
    }
   ],
   "source": [
    "(att,lab) = readFileThroughPandas(\"loanacceptance.csv\")\n",
    "\n",
    "# shape of the variables\n",
    "print(att.shape)\n",
    "print(lab.shape)\n",
    "\n",
    "# Use the first 400 rows for training and the remaining rows for testing\n",
    "\n",
    "x_train = att.loc[0:400]\n",
    "y_train = lab.loc[0:400]\n",
    "\n",
    "x_test = att.loc[400:]\n",
    "y_test = lab.loc[400:]\n",
    "\n",
    "# Alternatively use the following code to choose the rows randomly\n",
    "# x_train, x_test, y_train, y_test = train_test_split(att, lab, test_size = 0.20)"
   ]
  },
  {
   "cell_type": "markdown",
   "metadata": {},
   "source": [
    "### Fitting random forests"
   ]
  },
  {
   "cell_type": "code",
   "execution_count": 5,
   "metadata": {},
   "outputs": [
    {
     "data": {
      "text/plain": [
       "RandomForestClassifier(n_estimators=10)"
      ]
     },
     "execution_count": 5,
     "metadata": {},
     "output_type": "execute_result"
    }
   ],
   "source": [
    "# Note that only 80% of the dataset is being used for training\n",
    "clf = ensemble.RandomForestClassifier(n_estimators=10)\n",
    "clf.fit(X=x_train,y=y_train)"
   ]
  },
  {
   "cell_type": "markdown",
   "metadata": {},
   "source": [
    "### Printing performance metrics"
   ]
  },
  {
   "cell_type": "code",
   "execution_count": 6,
   "metadata": {},
   "outputs": [
    {
     "name": "stdout",
     "output_type": "stream",
     "text": [
      "Training accuracy 0.9925187032418953\n",
      "Testing accuracy 0.93\n"
     ]
    }
   ],
   "source": [
    "# returns accuracy\n",
    "print(\"Training accuracy\",clf.score(X=x_train,y=y_train))\n",
    "print(\"Testing accuracy\",clf.score(X=x_test,y=y_test))\n",
    "\n",
    "y_predicted = clf.predict(x_test)\n",
    "\n",
    "# Following is an alternative way to get the accuracy scores\n",
    "# print(\"Testing accuracy\",metrics.accuracy_score(y_test,y_predicted))"
   ]
  },
  {
   "cell_type": "markdown",
   "metadata": {},
   "source": [
    "### Always look at the confusion matrix"
   ]
  },
  {
   "cell_type": "code",
   "execution_count": 7,
   "metadata": {},
   "outputs": [
    {
     "name": "stdout",
     "output_type": "stream",
     "text": [
      "[[26  4]\n",
      " [ 3 67]]\n"
     ]
    }
   ],
   "source": [
    "m = metrics.confusion_matrix(y_test,y_predicted,labels=clf.classes_)\n",
    "print(m)"
   ]
  },
  {
   "cell_type": "code",
   "execution_count": 8,
   "metadata": {},
   "outputs": [
    {
     "data": {
      "image/png": "[encoded data removed]",
      "text/plain": [
       "<Figure size 432x288 with 2 Axes>"
      ]
     },
     "metadata": {
      "needs_background": "light"
     },
     "output_type": "display_data"
    }
   ],
   "source": [
    "# Better visualization of a confusion matrix\n",
    "disp = metrics.ConfusionMatrixDisplay(confusion_matrix=m,display_labels=clf.classes_)\n",
    "disp.plot()\n",
    "plt.show()"
   ]
  },
  {
   "cell_type": "markdown",
   "metadata": {},
   "source": [
    "### Feature importances"
   ]
  },
  {
   "cell_type": "code",
   "execution_count": 20,
   "metadata": {},
   "outputs": [
    {
     "data": {
      "text/plain": [
       "<AxesSubplot:>"
      ]
     },
     "execution_count": 20,
     "metadata": {},
     "output_type": "execute_result"
    },
    {
     "data": {
      "image/png": "[encoded data removed]",
      "text/plain": [
       "<Figure size 432x288 with 1 Axes>"
      ]
     },
     "metadata": {
      "needs_background": "light"
     },
     "output_type": "display_data"
    }
   ],
   "source": [
    "imp = clf.feature_importances_\n",
    "cols = [\"Marital Status\",\"Kids\",\"Annual Household Salary\",\"Loan Amount\",\"Car owner\", \"Education Level\"]\n",
    "plot_df = pd.DataFrame({\"Importances\": imp},index=cols)\n",
    "plot_df.plot.bar()"
   ]
  },
  {
   "cell_type": "code",
   "execution_count": null,
   "metadata": {},
   "outputs": [],
   "source": []
  }
 ],
 "metadata": {
  "kernelspec": {
   "display_name": "Python 3",
   "language": "python",
   "name": "python3"
  },
  "language_info": {
   "codemirror_mode": {
    "name": "ipython",
    "version": 3
   },
   "file_extension": ".py",
   "mimetype": "text/x-python",
   "name": "python",
   "nbconvert_exporter": "python",
   "pygments_lexer": "ipython3",
   "version": "3.8.10"
  }
 },
 "nbformat": 4,
 "nbformat_minor": 2
}
