{
 "cells": [
  {
   "cell_type": "markdown",
   "metadata": {},
   "source": [
    "## The file \"loanacceptance.csv\" contains various attributes of 500 customers based on which loan has either been granted or denied. You have to create a system that automatically decides whether to grant a loan or not to grant a loan."
   ]
  },
  {
   "cell_type": "markdown",
   "metadata": {},
   "source": [
    "### Importing libraries"
   ]
  },
  {
   "cell_type": "code",
   "execution_count": 1,
   "metadata": {},
   "outputs": [],
   "source": [
    "from sklearn import svm\n",
    "from sklearn import metrics\n",
    "from sklearn.model_selection import train_test_split\n",
    "import numpy as np\n",
    "import pandas as pd\n",
    "import matplotlib.pyplot as plt"
   ]
  },
  {
   "cell_type": "markdown",
   "metadata": {},
   "source": [
    "### Reading data file using Pandas"
   ]
  },
  {
   "cell_type": "code",
   "execution_count": 2,
   "metadata": {},
   "outputs": [],
   "source": [
    "def readFileThroughPandas(filename):\n",
    "    # Reads the entire data file\n",
    "    data = pd.read_csv(filename)\n",
    "    \n",
    "    att = data[[\"Marital Status\",\"Kids\",\"Annual Household Salary\",\"Loan Amount\",\"Car owner\", \"Education Level\"]]\n",
    "    lab = data[\"Loan Granted\"]\n",
    "    \n",
    "    # Let us do a normalization of our dataset because the attributes are of significantly different orders of magnitude\n",
    "    # Standard deviation based normalization\n",
    "    att=(att-att.mean())/att.std()\n",
    "    # Zero-to-One normalization\n",
    "    # att=(att-att.min())/(att.max()-att.min())\n",
    "    \n",
    "    return(att,lab)"
   ]
  },
  {
   "cell_type": "code",
   "execution_count": 3,
   "metadata": {},
   "outputs": [
    {
     "name": "stdout",
     "output_type": "stream",
     "text": [
      "(500, 6)\n",
      "(500,)\n"
     ]
    }
   ],
   "source": [
    "(att,lab) = readFileThroughPandas(\"loanacceptance.csv\")\n",
    "\n",
    "# shape of the variables\n",
    "print(att.shape)\n",
    "print(lab.shape)\n",
    "\n",
    "# Use the first 400 rows for training and the remaining rows for testing\n",
    "\n",
    "x_train = att.loc[0:400]\n",
    "y_train = lab.loc[0:400]\n",
    "\n",
    "x_test = att.loc[400:]\n",
    "y_test = lab.loc[400:]\n",
    "\n",
    "# Alternatively use the following code to choose the rows randomly\n",
    "# x_train, x_test, y_train, y_test = train_test_split(att, lab, test_size = 0.20)"
   ]
  },
  {
   "cell_type": "markdown",
   "metadata": {},
   "source": [
    "### Fitting an SVM model"
   ]
  },
  {
   "cell_type": "code",
   "execution_count": 4,
   "metadata": {},
   "outputs": [
    {
     "data": {
      "text/plain": [
       "SVC(C=1, kernel='linear')"
      ]
     },
     "execution_count": 4,
     "metadata": {},
     "output_type": "execute_result"
    }
   ],
   "source": [
    "# Create an SVM classification object\n",
    "\n",
    "# clf = svm.SVC(kernel='linear',C=1)\n",
    "# Note that rbf is the default kernel in svm.SVC\n",
    "# C is a regularization parameter to avoid overfitting\n",
    "# The default value of C is 1\n",
    "\n",
    "clf = svm.SVC(kernel='linear',C=1)\n",
    "clf.fit(X=x_train,y=y_train)\n",
    "\n",
    "# In case of more than 2 classes, note that multiclass is automatically done based on one-vs-one in svm.SVC"
   ]
  },
  {
   "cell_type": "markdown",
   "metadata": {},
   "source": [
    "### Printing performance metrics"
   ]
  },
  {
   "cell_type": "code",
   "execution_count": 5,
   "metadata": {},
   "outputs": [
    {
     "name": "stdout",
     "output_type": "stream",
     "text": [
      "Training accuracy 0.9351620947630923\n",
      "Testing accuracy 0.88\n"
     ]
    }
   ],
   "source": [
    "# returns accuracy\n",
    "print(\"Training accuracy\",clf.score(X=x_train,y=y_train))\n",
    "print(\"Testing accuracy\",clf.score(X=x_test,y=y_test))\n",
    "\n",
    "y_predicted = clf.predict(x_test)\n",
    "\n",
    "# Following is an alternative way to get the accuracy scores\n",
    "# print(\"Testing accuracy\",metrics.accuracy_score(y_test,y_predicted))"
   ]
  },
  {
   "cell_type": "markdown",
   "metadata": {},
   "source": [
    "### Always look at the confusion matrix"
   ]
  },
  {
   "cell_type": "code",
   "execution_count": 6,
   "metadata": {},
   "outputs": [
    {
     "name": "stdout",
     "output_type": "stream",
     "text": [
      "[[24  6]\n",
      " [ 6 64]]\n"
     ]
    }
   ],
   "source": [
    "m = metrics.confusion_matrix(y_test,y_predicted,labels=clf.classes_)\n",
    "print(m)"
   ]
  },
  {
   "cell_type": "code",
   "execution_count": 7,
   "metadata": {},
   "outputs": [
    {
     "data": {
      "image/png": "[encoded data removed]",
      "text/plain": [
       "<Figure size 432x288 with 2 Axes>"
      ]
     },
     "metadata": {
      "needs_background": "light"
     },
     "output_type": "display_data"
    }
   ],
   "source": [
    "# Better visualization of a confusion matrix\n",
    "disp = metrics.ConfusionMatrixDisplay(confusion_matrix=m,display_labels=clf.classes_)\n",
    "disp.plot()\n",
    "plt.show()"
   ]
  }
 ],
 "metadata": {
  "kernelspec": {
   "display_name": "Python 3",
   "language": "python",
   "name": "python3"
  },
  "language_info": {
   "codemirror_mode": {
    "name": "ipython",
    "version": 3
   },
   "file_extension": ".py",
   "mimetype": "text/x-python",
   "name": "python",
   "nbconvert_exporter": "python",
   "pygments_lexer": "ipython3",
   "version": "3.7.1"
  }
 },
 "nbformat": 4,
 "nbformat_minor": 2
}
